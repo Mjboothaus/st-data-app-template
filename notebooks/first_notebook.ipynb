{
 "cells": [
  {
   "cell_type": "code",
   "execution_count": null,
   "metadata": {},
   "outputs": [],
   "source": []
  }
 ],
 "metadata": {
  "kernelspec": {
   "display_name": "Python 3.8.10 ('old_ancient_axe_conda')",
   "language": "python",
   "name": "python3"
  },
  "language_info": {
   "name": "python",
   "version": "3.8.10"
  },
  "orig_nbformat": 4,
  "vscode": {
   "interpreter": {
    "hash": "9f8c86af43be04d00cb1b553c1b81628afbdfebb0fcb37e4e349e206fcf5b5dd"
   }
  }
 },
 "nbformat": 4,
 "nbformat_minor": 2
}
