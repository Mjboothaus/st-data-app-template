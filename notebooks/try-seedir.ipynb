{
 "cells": [
  {
   "cell_type": "code",
   "execution_count": 2,
   "metadata": {},
   "outputs": [],
   "source": [
    "import seedir as sd\n",
    "from pathlib import Path\n"
   ]
  },
  {
   "cell_type": "code",
   "execution_count": 4,
   "metadata": {},
   "outputs": [
    {
     "name": "stdout",
     "output_type": "stream",
     "text": [
      "st-data-app-template/\n",
      "├─requirements-deploy.txt\n",
      "├─app/\n",
      "│ ├─config.py\n",
      "│ ├─__pycache__/\n",
      "│ ├─Main.py\n",
      "│ ├─pages/\n",
      "│ └─src/\n",
      "├─LICENSE\n",
      "├─justfile\n",
      "├─requirements-dev.in\n",
      "├─.venv_dev_st-data-app-template/\n",
      "│ ├─bin/\n",
      "│ ├─include/\n",
      "│ ├─etc/\n",
      "│ ├─pyvenv.cfg\n",
      "│ ├─lib/\n",
      "│ └─share/\n",
      "├─Dockerfile\n",
      "├─Dockerfile_port.txt\n",
      "├─utils/\n",
      "│ └─create_dockerfile.py\n",
      "└─docs/\n",
      "  ├─Main.md\n",
      "  └─about.md\n"
     ]
    }
   ],
   "source": [
    "sd.seedir(path=Path.cwd().parent.as_posix(), style='lines', itemlimit=10, depthlimit=2, exclude_folders='.git')"
   ]
  },
  {
   "cell_type": "code",
   "execution_count": 6,
   "metadata": {},
   "outputs": [
    {
     "name": "stdout",
     "output_type": "stream",
     "text": [
      "📁 st-data-app-template/\n",
      "├─📄 requirements-deploy.txt\n",
      "├─📁 app/\n",
      "│ ├─📄 config.py\n",
      "│ ├─📁 __pycache__/\n",
      "│ ├─📄 Main.py\n",
      "│ ├─📁 pages/\n",
      "│ └─📁 src/\n",
      "├─📄 LICENSE\n",
      "├─📄 justfile\n",
      "├─📄 requirements-dev.in\n",
      "├─📁 .venv_dev_st-data-app-template/\n",
      "│ ├─📁 bin/\n",
      "│ ├─📁 include/\n",
      "│ ├─📁 etc/\n",
      "│ ├─📄 pyvenv.cfg\n",
      "│ ├─📁 lib/\n",
      "│ └─📁 share/\n",
      "├─📄 Dockerfile\n",
      "├─📄 Dockerfile_port.txt\n",
      "├─📁 utils/\n",
      "│ └─📄 create_dockerfile.py\n",
      "└─📁 docs/\n",
      "  ├─📄 Main.md\n",
      "  └─📄 about.md\n"
     ]
    }
   ],
   "source": [
    "sd.seedir(path=Path.cwd().parent.as_posix(), style='emoji', itemlimit=10, depthlimit=2, exclude_folders=['.git', '.venv*'])"
   ]
  }
 ],
 "metadata": {
  "kernelspec": {
   "display_name": "Python 3.9.12 ('.venv_deploy_st-data-app-template-test1': venv)",
   "language": "python",
   "name": "python3"
  },
  "language_info": {
   "codemirror_mode": {
    "name": "ipython",
    "version": 3
   },
   "file_extension": ".py",
   "mimetype": "text/x-python",
   "name": "python",
   "nbconvert_exporter": "python",
   "pygments_lexer": "ipython3",
   "version": "3.9.12"
  },
  "orig_nbformat": 4,
  "vscode": {
   "interpreter": {
    "hash": "b67cb1ebaa103b4f3be92fa57c4ff67b1361827ab4e227b46eaa2955bfe64312"
   }
  }
 },
 "nbformat": 4,
 "nbformat_minor": 2
}
