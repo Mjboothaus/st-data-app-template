{
 "cells": [
  {
   "cell_type": "code",
   "execution_count": 1,
   "metadata": {},
   "outputs": [],
   "source": [
    "import os\n",
    "import sys\n",
    "module_path = os.path.abspath(os.path.join('..'))\n",
    "if module_path not in sys.path:\n",
    "    sys.path.append(module_path)"
   ]
  },
  {
   "cell_type": "code",
   "execution_count": 2,
   "metadata": {},
   "outputs": [],
   "source": [
    "from dataclasses import dataclass\n",
    "import httpx\n",
    "import pandas as pd"
   ]
  },
  {
   "cell_type": "code",
   "execution_count": 3,
   "metadata": {},
   "outputs": [],
   "source": [
    "@dataclass\n",
    "class Datasource:\n",
    "    name: str = \"\"\n",
    "    meta: str = \"\"\n",
    "    api_url: str = \"\"\n",
    "    api_key: str = \"\"\n",
    "    api_id: str = \"\"\n",
    "    header: str = \"\"\n"
   ]
  },
  {
   "cell_type": "code",
   "execution_count": 4,
   "metadata": {},
   "outputs": [],
   "source": [
    "data = Datasource(name=\"NSW Car Park Occupancy\", \n",
    "                  meta=\"https://opendata.transport.nsw.gov.au/dataset/car-park-api\",\n",
    "                  api_url=\"https://api.transport.nsw.gov.au/v1/carpark\",\n",
    "                  api_id=\"databooth-nsw-open-data\")"
   ]
  },
  {
   "cell_type": "code",
   "execution_count": 5,
   "metadata": {},
   "outputs": [],
   "source": [
    "data.api_url = \"https://api.transport.nsw.gov.au/v1/carpark\""
   ]
  },
  {
   "cell_type": "code",
   "execution_count": 6,
   "metadata": {},
   "outputs": [],
   "source": [
    "data.api_id = \"databooth-nsw-open-data\""
   ]
  },
  {
   "cell_type": "code",
   "execution_count": 7,
   "metadata": {},
   "outputs": [],
   "source": [
    "SECRET_NSW_CARPARK_API_KEY = \"fwyH5kqV8mkdDwOfJlwoo11ubCivNjqmWeUk\""
   ]
  },
  {
   "cell_type": "code",
   "execution_count": 8,
   "metadata": {},
   "outputs": [],
   "source": [
    "data.api_key = SECRET_NSW_CARPARK_API_KEY    # TODO: Move to secret & clean history\n",
    "\n",
    "# https://docs.github.com/en/authentication/keeping-your-account-and-data-secure/removing-sensitive-data-from-a-repository"
   ]
  },
  {
   "cell_type": "code",
   "execution_count": 9,
   "metadata": {},
   "outputs": [],
   "source": [
    "data.header = {'Accept': 'application/json', 'Authorization': f'apikey {data.api_key}'}\n"
   ]
  },
  {
   "cell_type": "code",
   "execution_count": 11,
   "metadata": {},
   "outputs": [],
   "source": [
    "class GetDataForApiError(Exception):\n",
    "    pass"
   ]
  },
  {
   "cell_type": "code",
   "execution_count": 22,
   "metadata": {},
   "outputs": [],
   "source": [
    "def get_data_for_api(url, headers, column_name=\"unnamed\", query=None):\n",
    "    with httpx.Client() as client:\n",
    "        r = client.get(f\"{url}?{query}\", headers=headers)\n",
    "        if r.status_code == httpx.codes.OK:\n",
    "            data = r.json()\n",
    "        else:\n",
    "            raise GetDataForApiError(f\"Error {r.status_code} calling API: {url}\")\n",
    "        return pd.DataFrame.from_dict(data=r.json(), orient=\"index\", columns=[column_name])"
   ]
  },
  {
   "cell_type": "code",
   "execution_count": 23,
   "metadata": {},
   "outputs": [],
   "source": [
    "def get_carpark_names():\n",
    "    try:\n",
    "        return get_data_for_api(data.api_url, data.header, column_name=\"carpark_name\")\n",
    "    except Exception as e:\n",
    "        print(e)\n",
    "        return None"
   ]
  },
  {
   "cell_type": "code",
   "execution_count": 29,
   "metadata": {},
   "outputs": [],
   "source": [
    "carpark_names_df = get_carpark_names()"
   ]
  },
  {
   "cell_type": "code",
   "execution_count": 32,
   "metadata": {},
   "outputs": [],
   "source": [
    "def reformat_carpark_names(carpark_names_df):\n",
    "    if carpark_names_df is None:\n",
    "        print(\"Error: car park names not available\")\n",
    "    else:\n",
    "        carpark_names_df[\"id\"] = carpark_names_df.index\n",
    "        carpark_names_df.reset_index(inplace=True)\n",
    "        carpark_names_df.drop(\"index\", axis=1)\n",
    "    return carpark_names_df\n"
   ]
  },
  {
   "cell_type": "code",
   "execution_count": 33,
   "metadata": {},
   "outputs": [],
   "source": [
    "carpark_names_df = reformat_carpark_names(carpark_names_df)"
   ]
  },
  {
   "cell_type": "code",
   "execution_count": 28,
   "metadata": {},
   "outputs": [
    {
     "data": {
      "text/html": [
       "<div>\n",
       "<style scoped>\n",
       "    .dataframe tbody tr th:only-of-type {\n",
       "        vertical-align: middle;\n",
       "    }\n",
       "\n",
       "    .dataframe tbody tr th {\n",
       "        vertical-align: top;\n",
       "    }\n",
       "\n",
       "    .dataframe thead th {\n",
       "        text-align: right;\n",
       "    }\n",
       "</style>\n",
       "<table border=\"1\" class=\"dataframe\">\n",
       "  <thead>\n",
       "    <tr style=\"text-align: right;\">\n",
       "      <th></th>\n",
       "      <th>index</th>\n",
       "      <th>carpark_name</th>\n",
       "      <th>id</th>\n",
       "    </tr>\n",
       "  </thead>\n",
       "  <tbody>\n",
       "    <tr>\n",
       "      <th>0</th>\n",
       "      <td>1</td>\n",
       "      <td>Tallawong Station Car Park</td>\n",
       "      <td>1</td>\n",
       "    </tr>\n",
       "    <tr>\n",
       "      <th>1</th>\n",
       "      <td>10</td>\n",
       "      <td>Warriewood Car Park</td>\n",
       "      <td>10</td>\n",
       "    </tr>\n",
       "    <tr>\n",
       "      <th>2</th>\n",
       "      <td>11</td>\n",
       "      <td>Narrabeen Car Park</td>\n",
       "      <td>11</td>\n",
       "    </tr>\n",
       "    <tr>\n",
       "      <th>3</th>\n",
       "      <td>12</td>\n",
       "      <td>Mona Vale Car Park</td>\n",
       "      <td>12</td>\n",
       "    </tr>\n",
       "    <tr>\n",
       "      <th>4</th>\n",
       "      <td>13</td>\n",
       "      <td>Dee Why Car Park</td>\n",
       "      <td>13</td>\n",
       "    </tr>\n",
       "    <tr>\n",
       "      <th>5</th>\n",
       "      <td>14</td>\n",
       "      <td>West Ryde Car Park</td>\n",
       "      <td>14</td>\n",
       "    </tr>\n",
       "    <tr>\n",
       "      <th>6</th>\n",
       "      <td>15</td>\n",
       "      <td>Sutherland East Parade Car Park</td>\n",
       "      <td>15</td>\n",
       "    </tr>\n",
       "    <tr>\n",
       "      <th>7</th>\n",
       "      <td>16</td>\n",
       "      <td>Leppington Car Park</td>\n",
       "      <td>16</td>\n",
       "    </tr>\n",
       "    <tr>\n",
       "      <th>8</th>\n",
       "      <td>17</td>\n",
       "      <td>Edmondson Park South Car Park</td>\n",
       "      <td>17</td>\n",
       "    </tr>\n",
       "    <tr>\n",
       "      <th>9</th>\n",
       "      <td>18</td>\n",
       "      <td>St Marys Car Park</td>\n",
       "      <td>18</td>\n",
       "    </tr>\n",
       "    <tr>\n",
       "      <th>10</th>\n",
       "      <td>2</td>\n",
       "      <td>Kellyville Station Car Park</td>\n",
       "      <td>2</td>\n",
       "    </tr>\n",
       "    <tr>\n",
       "      <th>11</th>\n",
       "      <td>3</td>\n",
       "      <td>Bella Vista Station Car Park</td>\n",
       "      <td>3</td>\n",
       "    </tr>\n",
       "    <tr>\n",
       "      <th>12</th>\n",
       "      <td>4</td>\n",
       "      <td>Hills Showground Station Car Park</td>\n",
       "      <td>4</td>\n",
       "    </tr>\n",
       "    <tr>\n",
       "      <th>13</th>\n",
       "      <td>486</td>\n",
       "      <td>Ashfield Car Park</td>\n",
       "      <td>486</td>\n",
       "    </tr>\n",
       "    <tr>\n",
       "      <th>14</th>\n",
       "      <td>487</td>\n",
       "      <td>Kogarah Car Park</td>\n",
       "      <td>487</td>\n",
       "    </tr>\n",
       "    <tr>\n",
       "      <th>15</th>\n",
       "      <td>488</td>\n",
       "      <td>Seven Hills Car Park</td>\n",
       "      <td>488</td>\n",
       "    </tr>\n",
       "    <tr>\n",
       "      <th>16</th>\n",
       "      <td>489</td>\n",
       "      <td>Manly Vale Car Park</td>\n",
       "      <td>489</td>\n",
       "    </tr>\n",
       "    <tr>\n",
       "      <th>17</th>\n",
       "      <td>490</td>\n",
       "      <td>Brookvale Car Park</td>\n",
       "      <td>490</td>\n",
       "    </tr>\n",
       "    <tr>\n",
       "      <th>18</th>\n",
       "      <td>5</td>\n",
       "      <td>Cherrybrook Station Car Park</td>\n",
       "      <td>5</td>\n",
       "    </tr>\n",
       "    <tr>\n",
       "      <th>19</th>\n",
       "      <td>6</td>\n",
       "      <td>Gordon Henry St North Car Park</td>\n",
       "      <td>6</td>\n",
       "    </tr>\n",
       "    <tr>\n",
       "      <th>20</th>\n",
       "      <td>7</td>\n",
       "      <td>Kiama Car Park</td>\n",
       "      <td>7</td>\n",
       "    </tr>\n",
       "    <tr>\n",
       "      <th>21</th>\n",
       "      <td>8</td>\n",
       "      <td>Gosford Car Park</td>\n",
       "      <td>8</td>\n",
       "    </tr>\n",
       "    <tr>\n",
       "      <th>22</th>\n",
       "      <td>9</td>\n",
       "      <td>Revesby Car Park</td>\n",
       "      <td>9</td>\n",
       "    </tr>\n",
       "  </tbody>\n",
       "</table>\n",
       "</div>"
      ],
      "text/plain": [
       "   index                       carpark_name   id\n",
       "0      1         Tallawong Station Car Park    1\n",
       "1     10                Warriewood Car Park   10\n",
       "2     11                 Narrabeen Car Park   11\n",
       "3     12                 Mona Vale Car Park   12\n",
       "4     13                   Dee Why Car Park   13\n",
       "5     14                 West Ryde Car Park   14\n",
       "6     15    Sutherland East Parade Car Park   15\n",
       "7     16                Leppington Car Park   16\n",
       "8     17      Edmondson Park South Car Park   17\n",
       "9     18                  St Marys Car Park   18\n",
       "10     2        Kellyville Station Car Park    2\n",
       "11     3       Bella Vista Station Car Park    3\n",
       "12     4  Hills Showground Station Car Park    4\n",
       "13   486                  Ashfield Car Park  486\n",
       "14   487                   Kogarah Car Park  487\n",
       "15   488               Seven Hills Car Park  488\n",
       "16   489                Manly Vale Car Park  489\n",
       "17   490                 Brookvale Car Park  490\n",
       "18     5       Cherrybrook Station Car Park    5\n",
       "19     6     Gordon Henry St North Car Park    6\n",
       "20     7                     Kiama Car Park    7\n",
       "21     8                   Gosford Car Park    8\n",
       "22     9                   Revesby Car Park    9"
      ]
     },
     "execution_count": 28,
     "metadata": {},
     "output_type": "execute_result"
    }
   ],
   "source": [
    "carpark_names_df"
   ]
  },
  {
   "cell_type": "code",
   "execution_count": 21,
   "metadata": {},
   "outputs": [
    {
     "name": "stdout",
     "output_type": "stream",
     "text": [
      "Data unavailable\n"
     ]
    }
   ],
   "source": [
    "# want to cache this data\n",
    "\n",
    "try:\n",
    "    carpark_names_df.to_json(\"../data/carpark_names.json\", index=False)\n",
    "except Exception:\n",
    "    print(\"Data unavailable\")"
   ]
  },
  {
   "cell_type": "code",
   "execution_count": 19,
   "metadata": {},
   "outputs": [],
   "source": [
    "def get_current_carpark_occupancy_data(carpark_names_df, url, headers):\n",
    "    if carpark_names_df is None:\n",
    "        print(\"Car park data not available\")\n",
    "        return None\n",
    "    for row in carpark_names_df.itertuples():\n",
    "        df = get_data_for_api(url, headers, column_name=row[2], query=f\"facility={row[3]}\")\n",
    "        all_df = df if row[0] == 0 else all_df.join(df[row[2]])\n",
    "    return all_df\n"
   ]
  },
  {
   "cell_type": "code",
   "execution_count": 20,
   "metadata": {},
   "outputs": [
    {
     "ename": "GetDataForApiError",
     "evalue": "Error 503 calling API: https://api.transport.nsw.gov.au/v1/carpark",
     "output_type": "error",
     "traceback": [
      "\u001b[0;31m---------------------------------------------------------------------------\u001b[0m",
      "\u001b[0;31mGetDataForApiError\u001b[0m                        Traceback (most recent call last)",
      "\u001b[1;32m/Users/mjboothaus/code/github/mjboothaus/st-data-app-template/notebooks/explore_carpark_api.ipynb Cell 20\u001b[0m in \u001b[0;36m<cell line: 1>\u001b[0;34m()\u001b[0m\n\u001b[0;32m----> <a href='vscode-notebook-cell:/Users/mjboothaus/code/github/mjboothaus/st-data-app-template/notebooks/explore_carpark_api.ipynb#X33sZmlsZQ%3D%3D?line=0'>1</a>\u001b[0m all_df \u001b[39m=\u001b[39m get_current_carpark_occupancy_data(carpark_names_df, data\u001b[39m.\u001b[39;49mapi_url, data\u001b[39m.\u001b[39;49mheader)\n",
      "\u001b[1;32m/Users/mjboothaus/code/github/mjboothaus/st-data-app-template/notebooks/explore_carpark_api.ipynb Cell 20\u001b[0m in \u001b[0;36mget_current_carpark_occupancy_data\u001b[0;34m(carpark_names_df, url, headers)\u001b[0m\n\u001b[1;32m      <a href='vscode-notebook-cell:/Users/mjboothaus/code/github/mjboothaus/st-data-app-template/notebooks/explore_carpark_api.ipynb#X33sZmlsZQ%3D%3D?line=3'>4</a>\u001b[0m     \u001b[39mreturn\u001b[39;00m \u001b[39mNone\u001b[39;00m\n\u001b[1;32m      <a href='vscode-notebook-cell:/Users/mjboothaus/code/github/mjboothaus/st-data-app-template/notebooks/explore_carpark_api.ipynb#X33sZmlsZQ%3D%3D?line=4'>5</a>\u001b[0m \u001b[39mfor\u001b[39;00m row \u001b[39min\u001b[39;00m carpark_names_df\u001b[39m.\u001b[39mitertuples():\n\u001b[0;32m----> <a href='vscode-notebook-cell:/Users/mjboothaus/code/github/mjboothaus/st-data-app-template/notebooks/explore_carpark_api.ipynb#X33sZmlsZQ%3D%3D?line=5'>6</a>\u001b[0m     df \u001b[39m=\u001b[39m get_data_for_api(url, headers, column_name\u001b[39m=\u001b[39;49mrow[\u001b[39m2\u001b[39;49m], query\u001b[39m=\u001b[39;49m\u001b[39mf\u001b[39;49m\u001b[39m\"\u001b[39;49m\u001b[39mfacility=\u001b[39;49m\u001b[39m{\u001b[39;49;00mrow[\u001b[39m3\u001b[39;49m]\u001b[39m}\u001b[39;49;00m\u001b[39m\"\u001b[39;49m)\n\u001b[1;32m      <a href='vscode-notebook-cell:/Users/mjboothaus/code/github/mjboothaus/st-data-app-template/notebooks/explore_carpark_api.ipynb#X33sZmlsZQ%3D%3D?line=6'>7</a>\u001b[0m     all_df \u001b[39m=\u001b[39m df \u001b[39mif\u001b[39;00m row[\u001b[39m0\u001b[39m] \u001b[39m==\u001b[39m \u001b[39m0\u001b[39m \u001b[39melse\u001b[39;00m all_df\u001b[39m.\u001b[39mjoin(df[row[\u001b[39m2\u001b[39m]])\n\u001b[1;32m      <a href='vscode-notebook-cell:/Users/mjboothaus/code/github/mjboothaus/st-data-app-template/notebooks/explore_carpark_api.ipynb#X33sZmlsZQ%3D%3D?line=7'>8</a>\u001b[0m \u001b[39mreturn\u001b[39;00m all_df\n",
      "\u001b[1;32m/Users/mjboothaus/code/github/mjboothaus/st-data-app-template/notebooks/explore_carpark_api.ipynb Cell 20\u001b[0m in \u001b[0;36mget_data_for_api\u001b[0;34m(url, headers, column_name, query)\u001b[0m\n\u001b[1;32m      <a href='vscode-notebook-cell:/Users/mjboothaus/code/github/mjboothaus/st-data-app-template/notebooks/explore_carpark_api.ipynb#X33sZmlsZQ%3D%3D?line=4'>5</a>\u001b[0m     data \u001b[39m=\u001b[39m r\u001b[39m.\u001b[39mjson()\n\u001b[1;32m      <a href='vscode-notebook-cell:/Users/mjboothaus/code/github/mjboothaus/st-data-app-template/notebooks/explore_carpark_api.ipynb#X33sZmlsZQ%3D%3D?line=5'>6</a>\u001b[0m \u001b[39melse\u001b[39;00m:\n\u001b[0;32m----> <a href='vscode-notebook-cell:/Users/mjboothaus/code/github/mjboothaus/st-data-app-template/notebooks/explore_carpark_api.ipynb#X33sZmlsZQ%3D%3D?line=6'>7</a>\u001b[0m     \u001b[39mraise\u001b[39;00m GetDataForApiError(\u001b[39mf\u001b[39m\u001b[39m\"\u001b[39m\u001b[39mError \u001b[39m\u001b[39m{\u001b[39;00mr\u001b[39m.\u001b[39mstatus_code\u001b[39m}\u001b[39;00m\u001b[39m calling API: \u001b[39m\u001b[39m{\u001b[39;00murl\u001b[39m}\u001b[39;00m\u001b[39m\"\u001b[39m)\n\u001b[1;32m      <a href='vscode-notebook-cell:/Users/mjboothaus/code/github/mjboothaus/st-data-app-template/notebooks/explore_carpark_api.ipynb#X33sZmlsZQ%3D%3D?line=7'>8</a>\u001b[0m \u001b[39mreturn\u001b[39;00m pd\u001b[39m.\u001b[39mDataFrame\u001b[39m.\u001b[39mfrom_dict(data\u001b[39m=\u001b[39mr\u001b[39m.\u001b[39mjson(), orient\u001b[39m=\u001b[39m\u001b[39m\"\u001b[39m\u001b[39mindex\u001b[39m\u001b[39m\"\u001b[39m, columns\u001b[39m=\u001b[39m[column_name])\n",
      "\u001b[0;31mGetDataForApiError\u001b[0m: Error 503 calling API: https://api.transport.nsw.gov.au/v1/carpark"
     ]
    }
   ],
   "source": [
    "all_df = get_current_carpark_occupancy_data(carpark_names_df, data.api_url, data.header)"
   ]
  },
  {
   "cell_type": "code",
   "execution_count": null,
   "metadata": {},
   "outputs": [],
   "source": [
    "try:\n",
    "    all_df[\"Ashfield Car Park\"][\"occupancy\"]\n",
    "except Exception:\n",
    "    print(\"Car park data not available\")"
   ]
  },
  {
   "cell_type": "code",
   "execution_count": null,
   "metadata": {},
   "outputs": [],
   "source": [
    "# TODO: Prefect job to get the data on an hourly basis each day for a month?"
   ]
  },
  {
   "cell_type": "code",
   "execution_count": null,
   "metadata": {},
   "outputs": [],
   "source": [
    "# View the meta data in a browser (macOS at least)\n",
    "\n",
    "!open $data.meta"
   ]
  },
  {
   "cell_type": "code",
   "execution_count": null,
   "metadata": {},
   "outputs": [],
   "source": [
    "# c.f. https://github.com/streamlit/demo-uber-nyc-pickups/blob/main/streamlit_app.py"
   ]
  },
  {
   "cell_type": "code",
   "execution_count": null,
   "metadata": {},
   "outputs": [],
   "source": []
  }
 ],
 "metadata": {
  "kernelspec": {
   "display_name": "Python 3.9.12 ('.venv_deploy_st-data-app-template-test1': venv)",
   "language": "python",
   "name": "python3"
  },
  "language_info": {
   "codemirror_mode": {
    "name": "ipython",
    "version": 3
   },
   "file_extension": ".py",
   "mimetype": "text/x-python",
   "name": "python",
   "nbconvert_exporter": "python",
   "pygments_lexer": "ipython3",
   "version": "3.9.13"
  },
  "orig_nbformat": 4,
  "vscode": {
   "interpreter": {
    "hash": "b67cb1ebaa103b4f3be92fa57c4ff67b1361827ab4e227b46eaa2955bfe64312"
   }
  }
 },
 "nbformat": 4,
 "nbformat_minor": 2
}
