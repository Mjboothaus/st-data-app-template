{
 "cells": [
  {
   "cell_type": "code",
   "execution_count": 1,
   "metadata": {},
   "outputs": [],
   "source": [
    "import os\n",
    "import sys\n",
    "module_path = os.path.abspath(os.path.join('..'))\n",
    "if module_path not in sys.path:\n",
    "    sys.path.append(module_path)"
   ]
  },
  {
   "cell_type": "code",
   "execution_count": 2,
   "metadata": {},
   "outputs": [],
   "source": [
    "from dataclasses import dataclass\n",
    "import httpx\n",
    "import pandas as pd"
   ]
  },
  {
   "cell_type": "code",
   "execution_count": 3,
   "metadata": {},
   "outputs": [],
   "source": [
    "@dataclass\n",
    "class Datasource:\n",
    "    name: str = \"\"\n",
    "    meta: str = \"\"\n",
    "    api_url: str = \"\"\n",
    "    api_key: str = \"\"\n",
    "    api_id: str = \"\"\n",
    "    header: str = \"\"\n"
   ]
  },
  {
   "cell_type": "code",
   "execution_count": 4,
   "metadata": {},
   "outputs": [],
   "source": [
    "data = Datasource(name=\"NSW Car Park Occupancy\", \n",
    "                  meta=\"https://opendata.transport.nsw.gov.au/dataset/car-park-api\",\n",
    "                  api_url=\"https://api.transport.nsw.gov.au/v1/carpark\",\n",
    "                  api_id=\"databooth-nsw-open-data\")"
   ]
  },
  {
   "cell_type": "code",
   "execution_count": 5,
   "metadata": {},
   "outputs": [],
   "source": [
    "data.api_url = \"https://api.transport.nsw.gov.au/v1/carpark\""
   ]
  },
  {
   "cell_type": "code",
   "execution_count": 6,
   "metadata": {},
   "outputs": [],
   "source": [
    "data.api_id = \"databooth-nsw-open-data\""
   ]
  },
  {
   "cell_type": "code",
   "execution_count": 7,
   "metadata": {},
   "outputs": [],
   "source": [
    "data.api_key = \"NSW_CARPARK_API_KEY\"    # TODO: Move to secret & clean history\n",
    "\n",
    "# https://docs.github.com/en/authentication/keeping-your-account-and-data-secure/removing-sensitive-data-from-a-repository"
   ]
  },
  {
   "cell_type": "code",
   "execution_count": 8,
   "metadata": {},
   "outputs": [],
   "source": [
    "data.header = {'Accept': 'application/json', 'Authorization': f'apikey {data.api_key}'}\n"
   ]
  },
  {
   "cell_type": "code",
   "execution_count": 9,
   "metadata": {},
   "outputs": [],
   "source": [
    "def get_data_for_api(url, headers, column_name=\"unnamed\", query=None):\n",
    "    with httpx.Client() as client:\n",
    "        r = client.get(f\"{url}?{query}\", headers=headers)\n",
    "        if r.status_code == httpx.codes.OK:\n",
    "            return pd.DataFrame.from_dict(data=r.json(), orient=\"index\", columns=[column_name])\n",
    "        else:\n",
    "            return r.status_code"
   ]
  },
  {
   "cell_type": "code",
   "execution_count": 10,
   "metadata": {},
   "outputs": [],
   "source": [
    "carpark_names_df = get_data_for_api(data.api_url, data.header, column_name=\"carpark_name\")"
   ]
  },
  {
   "cell_type": "code",
   "execution_count": 11,
   "metadata": {},
   "outputs": [
    {
     "name": "stdout",
     "output_type": "stream",
     "text": [
      "Error: 401\n"
     ]
    }
   ],
   "source": [
    "if type(carpark_names_df) != pd.DataFrame:\n",
    "    print(f\"Error: {carpark_names_df}\")\n",
    "else:\n",
    "    carpark_names_df.head()"
   ]
  },
  {
   "cell_type": "code",
   "execution_count": 12,
   "metadata": {},
   "outputs": [],
   "source": [
    "if type(carpark_names_df) == pd.DataFrame:\n",
    "    carpark_names_df[\"id\"] = carpark_names_df.index\n",
    "    carpark_names_df.reset_index(inplace=True)\n",
    "    carpark_names_df.drop(\"index\", axis=1)\n"
   ]
  },
  {
   "cell_type": "code",
   "execution_count": 13,
   "metadata": {},
   "outputs": [],
   "source": [
    "def get_current_carpark_occupancy_data(url, headers):\n",
    "    for row in carpark_names_df.itertuples():\n",
    "        df = get_data_for_api(url, headers, column_name=row[2], query=f\"facility={row[3]}\")\n",
    "        all_df = df if row[0] == 0 else all_df.join(df[row[2]])\n",
    "    return all_df\n"
   ]
  },
  {
   "cell_type": "code",
   "execution_count": 14,
   "metadata": {},
   "outputs": [],
   "source": [
    "if type(carpark_names_df) == pd.DataFrame:\n",
    "    all_df = get_current_carpark_occupancy_data(data.api_url, data.header)"
   ]
  },
  {
   "cell_type": "code",
   "execution_count": 15,
   "metadata": {},
   "outputs": [
    {
     "name": "stdout",
     "output_type": "stream",
     "text": [
      "Data not available\n"
     ]
    }
   ],
   "source": [
    "try:\n",
    "    all_df[\"Ashfield Car Park\"][\"occupancy\"]\n",
    "except Exception:\n",
    "    print(\"Data not available\")"
   ]
  },
  {
   "cell_type": "code",
   "execution_count": 16,
   "metadata": {},
   "outputs": [],
   "source": [
    "# TODO: Prefect job to get the data on an hourly basis each day for a month?"
   ]
  },
  {
   "cell_type": "code",
   "execution_count": 17,
   "metadata": {},
   "outputs": [],
   "source": [
    "# View the meta data in a browser (macOS at least)\n",
    "\n",
    "!open $data.meta"
   ]
  },
  {
   "cell_type": "code",
   "execution_count": 18,
   "metadata": {},
   "outputs": [],
   "source": [
    "# c.f. https://github.com/streamlit/demo-uber-nyc-pickups/blob/main/streamlit_app.py"
   ]
  }
 ],
 "metadata": {
  "kernelspec": {
   "display_name": "Python 3.9.12 ('.venv_deploy_st-data-app-template-test1': venv)",
   "language": "python",
   "name": "python3"
  },
  "language_info": {
   "codemirror_mode": {
    "name": "ipython",
    "version": 3
   },
   "file_extension": ".py",
   "mimetype": "text/x-python",
   "name": "python",
   "nbconvert_exporter": "python",
   "pygments_lexer": "ipython3",
   "version": "3.9.13"
  },
  "orig_nbformat": 4,
  "vscode": {
   "interpreter": {
    "hash": "b67cb1ebaa103b4f3be92fa57c4ff67b1361827ab4e227b46eaa2955bfe64312"
   }
  }
 },
 "nbformat": 4,
 "nbformat_minor": 2
}
